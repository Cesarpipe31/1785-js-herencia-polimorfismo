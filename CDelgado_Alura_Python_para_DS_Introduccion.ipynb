{
  "nbformat": 4,
  "nbformat_minor": 0,
  "metadata": {
    "colab": {
      "provenance": [],
      "authorship_tag": "ABX9TyN0gFppOr5HPWgfEe2QJuDS",
      "include_colab_link": true
    },
    "kernelspec": {
      "name": "python3",
      "display_name": "Python 3"
    },
    "language_info": {
      "name": "python"
    }
  },
  "cells": [
    {
      "cell_type": "markdown",
      "metadata": {
        "id": "view-in-github",
        "colab_type": "text"
      },
      "source": [
        "<a href=\"https://colab.research.google.com/github/Cesarpipe31/1785-js-herencia-polimorfismo/blob/ProyectoInicial/CDelgado_Alura_Python_para_DS_Introduccion.ipynb\" target=\"_parent\"><img src=\"https://colab.research.google.com/assets/colab-badge.svg\" alt=\"Open In Colab\"/></a>"
      ]
    },
    {
      "cell_type": "markdown",
      "source": [
        "#**Python para DS - Introducción al lenguaje**"
      ],
      "metadata": {
        "id": "Iz6IXy3g3apD"
      }
    },
    {
      "cell_type": "code",
      "execution_count": 1,
      "metadata": {
        "colab": {
          "base_uri": "https://localhost:8080/"
        },
        "id": "dGaUEKuG21nZ",
        "outputId": "ba1669af-4431-4e27-d73d-7e83bbf60b1f"
      },
      "outputs": [
        {
          "output_type": "execute_result",
          "data": {
            "text/plain": [
              "2"
            ]
          },
          "metadata": {},
          "execution_count": 1
        }
      ],
      "source": [
        "1+1\n"
      ]
    },
    {
      "cell_type": "code",
      "source": [
        "name = 'César'"
      ],
      "metadata": {
        "id": "EDBLyKFk4ONP"
      },
      "execution_count": 4,
      "outputs": []
    },
    {
      "cell_type": "code",
      "source": [
        "print(name)"
      ],
      "metadata": {
        "colab": {
          "base_uri": "https://localhost:8080/"
        },
        "id": "-2v1g_ur5DZ7",
        "outputId": "159b8d4c-9ffd-4fea-c8ac-88459043459b"
      },
      "execution_count": 5,
      "outputs": [
        {
          "output_type": "stream",
          "name": "stdout",
          "text": [
            "César\n"
          ]
        }
      ]
    },
    {
      "cell_type": "code",
      "source": [
        "edad = 48.6\n",
        "print(edad)\n",
        "print(int(edad))"
      ],
      "metadata": {
        "colab": {
          "base_uri": "https://localhost:8080/"
        },
        "id": "z27KsdM_5GKi",
        "outputId": "2d1e2282-cf11-47f1-c4f8-9b8e5ee73f34"
      },
      "execution_count": 8,
      "outputs": [
        {
          "output_type": "stream",
          "name": "stdout",
          "text": [
            "48.6\n",
            "48\n"
          ]
        }
      ]
    },
    {
      "cell_type": "markdown",
      "source": [
        "# Mi primera función"
      ],
      "metadata": {
        "id": "Y9KDgufd50Wx"
      }
    },
    {
      "cell_type": "code",
      "source": [
        "print('El nombre es Cesar y su edad es 48 años')"
      ],
      "metadata": {
        "colab": {
          "base_uri": "https://localhost:8080/"
        },
        "id": "Uj5vZgJ-5hvi",
        "outputId": "80f71241-36e8-4058-90b4-55950f4b9a1b"
      },
      "execution_count": 9,
      "outputs": [
        {
          "output_type": "stream",
          "name": "stdout",
          "text": [
            "El nombre es Cesar y su edad es 48 años\n"
          ]
        }
      ]
    },
    {
      "cell_type": "code",
      "source": [
        "print(f'El nombre es {name} y su edad es de {edad} años')"
      ],
      "metadata": {
        "colab": {
          "base_uri": "https://localhost:8080/"
        },
        "id": "EVzmytNm59ty",
        "outputId": "fc3716ea-8d60-47d1-9489-05177d2f82cb"
      },
      "execution_count": 11,
      "outputs": [
        {
          "output_type": "stream",
          "name": "stdout",
          "text": [
            "El nombre es César y su edad es de 48.6 años\n"
          ]
        }
      ]
    },
    {
      "cell_type": "code",
      "source": [
        "def saludar():\n",
        "  nombre = input('Digite su nombre: ')\n",
        "  print(f'Hola {nombre} sea bienvenida(o)!!!')\n",
        "\n"
      ],
      "metadata": {
        "id": "Nv5oC_pE6fhh"
      },
      "execution_count": 14,
      "outputs": []
    },
    {
      "cell_type": "code",
      "source": [
        "saludar()"
      ],
      "metadata": {
        "colab": {
          "base_uri": "https://localhost:8080/"
        },
        "id": "kgQtoGLW66lU",
        "outputId": "9648feec-f773-4416-892c-0d13daa2b680"
      },
      "execution_count": 13,
      "outputs": [
        {
          "output_type": "stream",
          "name": "stdout",
          "text": [
            "Digite su nombre: César\n",
            "Hola César sea bienvenido!!!\n"
          ]
        }
      ]
    },
    {
      "cell_type": "code",
      "source": [
        "def saludar_con_parametros(name):\n",
        "  print(f'Hola {name} sea bienvenido!!!')\n",
        "\n",
        "\n"
      ],
      "metadata": {
        "id": "9wMz9CbrE8Ud"
      },
      "execution_count": 15,
      "outputs": []
    },
    {
      "cell_type": "code",
      "source": [
        "saludar_con_parametros(name)"
      ],
      "metadata": {
        "colab": {
          "base_uri": "https://localhost:8080/"
        },
        "id": "S0IjfHDEFKkk",
        "outputId": "84a1b5fa-c918-4b63-af78-96d820d3a47c"
      },
      "execution_count": 18,
      "outputs": [
        {
          "output_type": "stream",
          "name": "stdout",
          "text": [
            "Hola César sea bienvenido!!!\n"
          ]
        }
      ]
    },
    {
      "cell_type": "markdown",
      "source": [
        "#Condicionales"
      ],
      "metadata": {
        "id": "TqV-HBwcGxHa"
      }
    },
    {
      "cell_type": "code",
      "source": [
        "edad=20\n",
        "\n",
        "def verificar_si_puede_conducir(edad):\n",
        "  if edad >= 18:\n",
        "    print(\"Puede conducir\")\n",
        "  else:\n",
        "    print(\"No puede conducir\")\n",
        "\n",
        "verificar_si_puede_conducir(edad)"
      ],
      "metadata": {
        "colab": {
          "base_uri": "https://localhost:8080/"
        },
        "id": "BeEykTLkFtwd",
        "outputId": "b1e79918-7641-40d6-9dd9-eec134c64658"
      },
      "execution_count": 25,
      "outputs": [
        {
          "output_type": "stream",
          "name": "stdout",
          "text": [
            "Puede conducir\n"
          ]
        }
      ]
    },
    {
      "cell_type": "markdown",
      "source": [
        "#Condicionales sin parámetro y conversión de tipo de dato\n"
      ],
      "metadata": {
        "id": "lH-zHQ3IHfqa"
      }
    },
    {
      "cell_type": "code",
      "source": [
        "def verificar_si_puede_conducir_sin_parametro():\n",
        "  edad = input('Digite su edad: ')\n",
        "  edad = int(edad)\n",
        "\n",
        "  if edad >= 18:\n",
        "    print (\"Puede conducir\")\n",
        "  else:\n",
        "    print(\"No puedo conducir\")\n",
        "\n",
        "verificar_si_puede_conducir_sin_parametro()"
      ],
      "metadata": {
        "colab": {
          "base_uri": "https://localhost:8080/"
        },
        "id": "8AX-VULEG2XE",
        "outputId": "6674c345-ecf8-4153-9de1-430f6b99cfe7"
      },
      "execution_count": 28,
      "outputs": [
        {
          "output_type": "stream",
          "name": "stdout",
          "text": [
            "Digite su edad: 15\n",
            "No puedo conducir\n"
          ]
        }
      ]
    },
    {
      "cell_type": "markdown",
      "source": [
        "#Listas"
      ],
      "metadata": {
        "id": "DWadN18vdvcl"
      }
    },
    {
      "cell_type": "code",
      "source": [
        "edades = [18, 23, 27, 32, 7, 37, 48, 93, 12, 9, ]"
      ],
      "metadata": {
        "id": "cZa--5zhdkAw"
      },
      "execution_count": 47,
      "outputs": []
    },
    {
      "cell_type": "code",
      "source": [
        "type(edad)"
      ],
      "metadata": {
        "colab": {
          "base_uri": "https://localhost:8080/"
        },
        "id": "pluaLjz-d53y",
        "outputId": "1d5dd7cb-7cec-432d-a282-4e4790da509f"
      },
      "execution_count": 30,
      "outputs": [
        {
          "output_type": "execute_result",
          "data": {
            "text/plain": [
              "list"
            ]
          },
          "metadata": {},
          "execution_count": 30
        }
      ]
    },
    {
      "cell_type": "code",
      "source": [
        "type(name)"
      ],
      "metadata": {
        "colab": {
          "base_uri": "https://localhost:8080/"
        },
        "id": "sCJn_m5MeD1v",
        "outputId": "a65e7579-b3ea-42fd-a23e-dd075705d3cb"
      },
      "execution_count": 31,
      "outputs": [
        {
          "output_type": "execute_result",
          "data": {
            "text/plain": [
              "str"
            ]
          },
          "metadata": {},
          "execution_count": 31
        }
      ]
    },
    {
      "cell_type": "code",
      "source": [
        "type(edades)"
      ],
      "metadata": {
        "colab": {
          "base_uri": "https://localhost:8080/"
        },
        "id": "DQEGS8iMeGdL",
        "outputId": "9cf84a32-68af-4530-fce0-0670a794f105"
      },
      "execution_count": 32,
      "outputs": [
        {
          "output_type": "execute_result",
          "data": {
            "text/plain": [
              "list"
            ]
          },
          "metadata": {},
          "execution_count": 32
        }
      ]
    },
    {
      "cell_type": "code",
      "source": [
        "edades"
      ],
      "metadata": {
        "colab": {
          "base_uri": "https://localhost:8080/"
        },
        "id": "gB3zisV_eJbt",
        "outputId": "870cf219-4fae-493e-d305-6aadffd6d785"
      },
      "execution_count": 33,
      "outputs": [
        {
          "output_type": "execute_result",
          "data": {
            "text/plain": [
              "[18, 23, 27, 32, 37, 48, 93]"
            ]
          },
          "metadata": {},
          "execution_count": 33
        }
      ]
    },
    {
      "cell_type": "code",
      "source": [
        "edades[0]"
      ],
      "metadata": {
        "colab": {
          "base_uri": "https://localhost:8080/"
        },
        "id": "btL-WihpeLUo",
        "outputId": "d0bcd9af-e68a-4b5c-d0ec-9530525d70e1"
      },
      "execution_count": 34,
      "outputs": [
        {
          "output_type": "execute_result",
          "data": {
            "text/plain": [
              "18"
            ]
          },
          "metadata": {},
          "execution_count": 34
        }
      ]
    },
    {
      "cell_type": "code",
      "source": [
        "edades[0:3]"
      ],
      "metadata": {
        "colab": {
          "base_uri": "https://localhost:8080/"
        },
        "id": "ioTuWjEUeO8q",
        "outputId": "75b9ef60-e8ea-4f35-d52c-a925eabcf84b"
      },
      "execution_count": 35,
      "outputs": [
        {
          "output_type": "execute_result",
          "data": {
            "text/plain": [
              "[18, 23, 27]"
            ]
          },
          "metadata": {},
          "execution_count": 35
        }
      ]
    },
    {
      "cell_type": "code",
      "source": [
        "edades[3:4]"
      ],
      "metadata": {
        "colab": {
          "base_uri": "https://localhost:8080/"
        },
        "id": "pvHJ1v_leVKi",
        "outputId": "2f3b17db-f112-4402-84a5-af802e73806a"
      },
      "execution_count": 36,
      "outputs": [
        {
          "output_type": "execute_result",
          "data": {
            "text/plain": [
              "[32]"
            ]
          },
          "metadata": {},
          "execution_count": 36
        }
      ]
    },
    {
      "cell_type": "code",
      "source": [
        "edades[1:]"
      ],
      "metadata": {
        "colab": {
          "base_uri": "https://localhost:8080/"
        },
        "id": "TbuVyhZSemlg",
        "outputId": "994753f3-7b93-41f5-b236-e823967d899e"
      },
      "execution_count": 37,
      "outputs": [
        {
          "output_type": "execute_result",
          "data": {
            "text/plain": [
              "[23, 27, 32, 37, 48, 93]"
            ]
          },
          "metadata": {},
          "execution_count": 37
        }
      ]
    },
    {
      "cell_type": "code",
      "source": [
        "edades[-1]"
      ],
      "metadata": {
        "colab": {
          "base_uri": "https://localhost:8080/"
        },
        "id": "dhonJLlKeqJJ",
        "outputId": "7dc36c10-c592-4c7f-cf34-b06b3a349987"
      },
      "execution_count": 38,
      "outputs": [
        {
          "output_type": "execute_result",
          "data": {
            "text/plain": [
              "93"
            ]
          },
          "metadata": {},
          "execution_count": 38
        }
      ]
    },
    {
      "cell_type": "code",
      "source": [
        "edades[-3]"
      ],
      "metadata": {
        "colab": {
          "base_uri": "https://localhost:8080/"
        },
        "id": "Vi0Hw74yeuOs",
        "outputId": "c2aaa7c9-fb51-4661-e946-096367a1ec93"
      },
      "execution_count": 39,
      "outputs": [
        {
          "output_type": "execute_result",
          "data": {
            "text/plain": [
              "37"
            ]
          },
          "metadata": {},
          "execution_count": 39
        }
      ]
    },
    {
      "cell_type": "code",
      "source": [
        "edades[-0:-4]\n",
        "# tan raro revisar"
      ],
      "metadata": {
        "colab": {
          "base_uri": "https://localhost:8080/"
        },
        "id": "GMy_AGJsexAM",
        "outputId": "491ed5a3-510a-4d33-cd45-4e021ba0aa3c"
      },
      "execution_count": 43,
      "outputs": [
        {
          "output_type": "execute_result",
          "data": {
            "text/plain": [
              "[18, 23, 27]"
            ]
          },
          "metadata": {},
          "execution_count": 43
        }
      ]
    },
    {
      "cell_type": "markdown",
      "source": [
        "#Loops.  Bucles y Ciclos\n"
      ],
      "metadata": {
        "id": "7ec0YTJifSJb"
      }
    },
    {
      "cell_type": "code",
      "source": [
        "edades\n",
        "\n",
        "def verificar_si_puede_conducir_nuevo(edad):\n",
        "  if edad >= 18:\n",
        "    print(\"Puede conducir\")\n",
        "  else:\n",
        "    print(\"No puede conducir\")\n",
        "\n",
        "\n",
        "for edad in edades:\n",
        "  verificar_si_puede_conducir_nuevo(edad)"
      ],
      "metadata": {
        "colab": {
          "base_uri": "https://localhost:8080/"
        },
        "id": "NloGUdxAfVZ2",
        "outputId": "451835b5-dcd8-43c2-ab95-c3e186ab3efc"
      },
      "execution_count": 49,
      "outputs": [
        {
          "output_type": "stream",
          "name": "stdout",
          "text": [
            "Puede conducir\n",
            "Puede conducir\n",
            "Puede conducir\n",
            "Puede conducir\n",
            "No puede conducir\n",
            "Puede conducir\n",
            "Puede conducir\n",
            "Puede conducir\n",
            "No puede conducir\n",
            "No puede conducir\n"
          ]
        }
      ]
    },
    {
      "cell_type": "code",
      "source": [
        "#Bucle dentro de la función\n",
        "edades\n",
        "\n",
        "def verificar_puede_conducir(edades):\n",
        "  for edad in edades:\n",
        "    if edad >= 18:\n",
        "      print(\"Puede conducir\")\n",
        "    else:\n",
        "      print(\"No puede conducir\")\n",
        "\n",
        "\n",
        "verificar_puede_conducir(edades)"
      ],
      "metadata": {
        "colab": {
          "base_uri": "https://localhost:8080/"
        },
        "id": "plx9-PhihAoY",
        "outputId": "20279f93-a934-44cc-f98f-77cbfc825d97"
      },
      "execution_count": 51,
      "outputs": [
        {
          "output_type": "stream",
          "name": "stdout",
          "text": [
            "Puede conducir\n",
            "Puede conducir\n",
            "Puede conducir\n",
            "Puede conducir\n",
            "No puede conducir\n",
            "Puede conducir\n",
            "Puede conducir\n",
            "Puede conducir\n",
            "No puede conducir\n",
            "No puede conducir\n"
          ]
        }
      ]
    },
    {
      "cell_type": "markdown",
      "source": [
        "#Booleano\n"
      ],
      "metadata": {
        "id": "GtQTJQh7iRHx"
      }
    },
    {
      "cell_type": "code",
      "source": [
        "edad = 18"
      ],
      "metadata": {
        "id": "hR9NLVSWiUFN"
      },
      "execution_count": 62,
      "outputs": []
    },
    {
      "cell_type": "code",
      "source": [
        "edad >= 18"
      ],
      "metadata": {
        "colab": {
          "base_uri": "https://localhost:8080/"
        },
        "id": "FxzSdXOpiWhh",
        "outputId": "30fc9df5-e5f7-47b4-9d48-d1339248f08d"
      },
      "execution_count": 64,
      "outputs": [
        {
          "output_type": "execute_result",
          "data": {
            "text/plain": [
              "True"
            ]
          },
          "metadata": {},
          "execution_count": 64
        }
      ]
    },
    {
      "cell_type": "code",
      "source": [
        "edad < 18"
      ],
      "metadata": {
        "colab": {
          "base_uri": "https://localhost:8080/"
        },
        "id": "datrbNPkici9",
        "outputId": "694e7bc0-3e5e-4aa5-b63a-d50884daae04"
      },
      "execution_count": 54,
      "outputs": [
        {
          "output_type": "execute_result",
          "data": {
            "text/plain": [
              "True"
            ]
          },
          "metadata": {},
          "execution_count": 54
        }
      ]
    },
    {
      "cell_type": "code",
      "source": [
        "verificaciones = []\n",
        "\n",
        "edades\n",
        "\n",
        "def verificar_si_puede_conducir_booleano(verificaciones, edades):\n",
        "  for edad in edades:\n",
        "    if edad >= 18:\n",
        "      verificaciones.append(True)\n",
        "    else:\n",
        "      verificaciones.append(False)\n",
        "\n",
        "\n",
        "  for verificacion in verificaciones:\n",
        "    if verificacion == True:\n",
        "      print(\"Puede conducir\")\n",
        "    else:\n",
        "      print(\"No puede conducir\")\n",
        "\n",
        "\n",
        "verificar_si_puede_conducir_booleano(verificaciones, edades)\n",
        "\n"
      ],
      "metadata": {
        "colab": {
          "base_uri": "https://localhost:8080/"
        },
        "id": "hzMv4abrqA5V",
        "outputId": "4749cb70-94e2-4227-927e-4935c5dd3e13"
      },
      "execution_count": 66,
      "outputs": [
        {
          "output_type": "stream",
          "name": "stdout",
          "text": [
            "Puede conducir\n",
            "Puede conducir\n",
            "Puede conducir\n",
            "Puede conducir\n",
            "No puede conducir\n",
            "Puede conducir\n",
            "Puede conducir\n",
            "Puede conducir\n",
            "No puede conducir\n",
            "No puede conducir\n"
          ]
        }
      ]
    },
    {
      "cell_type": "code",
      "source": [
        "verificaciones"
      ],
      "metadata": {
        "colab": {
          "base_uri": "https://localhost:8080/"
        },
        "id": "d8Ah9HKwrPuR",
        "outputId": "6b6335d2-bf4c-44f3-a7bc-e73e0c28cbf2"
      },
      "execution_count": 67,
      "outputs": [
        {
          "output_type": "execute_result",
          "data": {
            "text/plain": [
              "[True, True, True, True, False, True, True, True, False, False]"
            ]
          },
          "metadata": {},
          "execution_count": 67
        }
      ]
    },
    {
      "cell_type": "markdown",
      "source": [
        "#Lista con diferentes tipos de datos"
      ],
      "metadata": {
        "id": "tbROqb51rtkR"
      }
    },
    {
      "cell_type": "code",
      "source": [
        "persona = ['Mariana', 25, True, 'México']\n",
        "persona"
      ],
      "metadata": {
        "colab": {
          "base_uri": "https://localhost:8080/"
        },
        "id": "0R3sHIlQrw8E",
        "outputId": "2aa13bb2-9e44-4172-8cd5-491a8578c5c4"
      },
      "execution_count": 70,
      "outputs": [
        {
          "output_type": "execute_result",
          "data": {
            "text/plain": [
              "['Mariana', 25, True, 'México']"
            ]
          },
          "metadata": {},
          "execution_count": 70
        }
      ]
    },
    {
      "cell_type": "code",
      "source": [
        "for elemento in persona:\n",
        "  print(f'El elemento {elemento} de la lista es del tipo', type(elemento))"
      ],
      "metadata": {
        "colab": {
          "base_uri": "https://localhost:8080/"
        },
        "id": "wYSaNH7xr98U",
        "outputId": "bba03a7e-b1c6-4138-f1aa-3bd6864bc268"
      },
      "execution_count": 71,
      "outputs": [
        {
          "output_type": "stream",
          "name": "stdout",
          "text": [
            "El elemento Mariana de la lista es del tipo <class 'str'>\n",
            "El elemento 25 de la lista es del tipo <class 'int'>\n",
            "El elemento True de la lista es del tipo <class 'bool'>\n",
            "El elemento México de la lista es del tipo <class 'str'>\n"
          ]
        }
      ]
    },
    {
      "cell_type": "markdown",
      "source": [
        "#Importar Biblioteca y/o Librería"
      ],
      "metadata": {
        "id": "0I5jryw75cDb"
      }
    },
    {
      "cell_type": "code",
      "source": [
        "from random import randrange, seed"
      ],
      "metadata": {
        "id": "S6ZXPaKC5iZe"
      },
      "execution_count": 80,
      "outputs": []
    },
    {
      "cell_type": "code",
      "source": [
        "randrange(0, 11)"
      ],
      "metadata": {
        "colab": {
          "base_uri": "https://localhost:8080/"
        },
        "id": "DvwexyjD6B_n",
        "outputId": "5dc13409-b397-4a72-d2dd-3eaa38c3b533"
      },
      "execution_count": 76,
      "outputs": [
        {
          "output_type": "execute_result",
          "data": {
            "text/plain": [
              "0"
            ]
          },
          "metadata": {},
          "execution_count": 76
        }
      ]
    },
    {
      "cell_type": "code",
      "source": [
        "notas_matematicas = []\n",
        "notas_matematicas.append(randrange(0, 11))"
      ],
      "metadata": {
        "id": "oKk5uYWI6Ur4"
      },
      "execution_count": null,
      "outputs": []
    },
    {
      "cell_type": "code",
      "source": [
        "notas_matematicas = []\n",
        "\n",
        "# Semilla, para que aparezcan los mismos numeros aleatorios\n",
        "seed(8)\n",
        "\n",
        "for notas in range(6):\n",
        "  notas_matematicas.append(randrange(0, 11))\n",
        "\n",
        "notas_matematicas\n"
      ],
      "metadata": {
        "colab": {
          "base_uri": "https://localhost:8080/"
        },
        "id": "jwN8fLkN6ju3",
        "outputId": "aa724526-aeff-4a04-c48a-94625826b0e8"
      },
      "execution_count": 87,
      "outputs": [
        {
          "output_type": "execute_result",
          "data": {
            "text/plain": [
              "[3, 5, 6, 2, 3, 0]"
            ]
          },
          "metadata": {},
          "execution_count": 87
        }
      ]
    },
    {
      "cell_type": "code",
      "source": [
        "len(notas_matematicas)"
      ],
      "metadata": {
        "colab": {
          "base_uri": "https://localhost:8080/"
        },
        "id": "SFOdPhlN7ZrO",
        "outputId": "b24f4b36-e37f-4351-fa9b-1f044afdd9fc"
      },
      "execution_count": 84,
      "outputs": [
        {
          "output_type": "execute_result",
          "data": {
            "text/plain": [
              "6"
            ]
          },
          "metadata": {},
          "execution_count": 84
        }
      ]
    }
  ]
}